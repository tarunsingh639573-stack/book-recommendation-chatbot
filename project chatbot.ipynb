{
 "cells": [
  {
   "cell_type": "code",
   "execution_count": 12,
   "id": "1271a613",
   "metadata": {},
   "outputs": [
    {
     "data": {
      "application/vnd.jupyter.widget-view+json": {
       "model_id": "d3c3ccf1f89d4f319a1a656e9351c327",
       "version_major": 2,
       "version_minor": 0
      },
      "text/plain": [
       "Dropdown(description='Genre:', options=('any', 'romance', 'adventure', 'drama', 'fantasy', 'thriller'), value=…"
      ]
     },
     "metadata": {},
     "output_type": "display_data"
    },
    {
     "data": {
      "application/vnd.jupyter.widget-view+json": {
       "model_id": "fbf65132410940478f92e8e06e35fa0e",
       "version_major": 2,
       "version_minor": 0
      },
      "text/plain": [
       "Dropdown(description='Mood:', options=('any', 'happy', 'emotional', 'excited', 'serious', 'thoughtful'), value…"
      ]
     },
     "metadata": {},
     "output_type": "display_data"
    },
    {
     "data": {
      "application/vnd.jupyter.widget-view+json": {
       "model_id": "0450a985ace74828913e3118b434fc3d",
       "version_major": 2,
       "version_minor": 0
      },
      "text/plain": [
       "Dropdown(description='Length:', options=('any', 'short', 'medium', 'long'), value='any')"
      ]
     },
     "metadata": {},
     "output_type": "display_data"
    },
    {
     "data": {
      "application/vnd.jupyter.widget-view+json": {
       "model_id": "ce648ad619a44f5bbb945030d8017f91",
       "version_major": 2,
       "version_minor": 0
      },
      "text/plain": [
       "Button(description='Get Recommendation', style=ButtonStyle())"
      ]
     },
     "metadata": {},
     "output_type": "display_data"
    },
    {
     "data": {
      "application/vnd.jupyter.widget-view+json": {
       "model_id": "1894515f28254481baaeff98aebff7c7",
       "version_major": 2,
       "version_minor": 0
      },
      "text/plain": [
       "Output()"
      ]
     },
     "metadata": {},
     "output_type": "display_data"
    }
   ],
   "source": [
    "# ==============================\n",
    "# 📚 Book Recommendation Chatbot (200 books)\n",
    "# ==============================\n",
    "\n",
    "# 1️⃣ Dataset (200 books) - only first 50 shown for brevity; expand as needed\n",
    "books = [\n",
    "    # Romance\n",
    "    {\"title\": \"Pride and Prejudice\", \"genre\": \"romance\", \"mood\": \"happy\", \"length\": \"medium\"},\n",
    "    {\"title\": \"The Notebook\", \"genre\": \"romance\", \"mood\": \"emotional\", \"length\": \"long\"},\n",
    "    {\"title\": \"Me Before You\", \"genre\": \"romance\", \"mood\": \"emotional\", \"length\": \"medium\"},\n",
    "    {\"title\": \"Twilight\", \"genre\": \"romance\", \"mood\": \"excited\", \"length\": \"long\"},\n",
    "    {\"title\": \"The Fault in Our Stars\", \"genre\": \"romance\", \"mood\": \"emotional\", \"length\": \"medium\"},\n",
    "    {\"title\": \"Outlander\", \"genre\": \"romance\", \"mood\": \"adventurous\", \"length\": \"long\"},\n",
    "    {\"title\": \"The Rosie Project\", \"genre\": \"romance\", \"mood\": \"humorous\", \"length\": \"medium\"},\n",
    "    {\"title\": \"Bridget Jones's Diary\", \"genre\": \"romance\", \"mood\": \"funny\", \"length\": \"short\"},\n",
    "    {\"title\": \"Fifty Shades of Grey\", \"genre\": \"romance\", \"mood\": \"intense\", \"length\": \"long\"},\n",
    "    {\"title\": \"The Time Traveler's Wife\", \"genre\": \"romance\", \"mood\": \"emotional\", \"length\": \"long\"},\n",
    "    # Adventure\n",
    "    {\"title\": \"The Hobbit\", \"genre\": \"adventure\", \"mood\": \"excited\", \"length\": \"medium\"},\n",
    "    {\"title\": \"Life of Pi\", \"genre\": \"adventure\", \"mood\": \"thoughtful\", \"length\": \"long\"},\n",
    "    {\"title\": \"Treasure Island\", \"genre\": \"adventure\", \"mood\": \"happy\", \"length\": \"medium\"},\n",
    "    {\"title\": \"Journey to the Center of the Earth\", \"genre\": \"adventure\", \"mood\": \"serious\", \"length\": \"long\"},\n",
    "    {\"title\": \"The Call of the Wild\", \"genre\": \"adventure\", \"mood\": \"wild\", \"length\": \"medium\"},\n",
    "    {\"title\": \"Moby-Dick\", \"genre\": \"adventure\", \"mood\": \"philosophical\", \"length\": \"long\"},\n",
    "    {\"title\": \"Around the World in 80 Days\", \"genre\": \"adventure\", \"mood\": \"excited\", \"length\": \"medium\"},\n",
    "    {\"title\": \"The Odyssey\", \"genre\": \"adventure\", \"mood\": \"epic\", \"length\": \"long\"},\n",
    "    {\"title\": \"The Three Musketeers\", \"genre\": \"adventure\", \"mood\": \"swashbuckling\", \"length\": \"long\"},\n",
    "    {\"title\": \"King Solomon's Mines\", \"genre\": \"adventure\", \"mood\": \"thrilling\", \"length\": \"medium\"},\n",
    "    # Drama\n",
    "    {\"title\": \"The Great Gatsby\", \"genre\": \"drama\", \"mood\": \"serious\", \"length\": \"short\"},\n",
    "    {\"title\": \"Of Mice and Men\", \"genre\": \"drama\", \"mood\": \"emotional\", \"length\": \"short\"},\n",
    "    {\"title\": \"A Thousand Splendid Suns\", \"genre\": \"drama\", \"mood\": \"thoughtful\", \"length\": \"long\"},\n",
    "    {\"title\": \"To Kill a Mockingbird\", \"genre\": \"drama\", \"mood\": \"serious\", \"length\": \"long\"},\n",
    "    {\"title\": \"1984\", \"genre\": \"drama\", \"mood\": \"dystopian\", \"length\": \"long\"},\n",
    "    {\"title\": \"The Catcher in the Rye\", \"genre\": \"drama\", \"mood\": \"rebellious\", \"length\": \"medium\"},\n",
    "    {\"title\": \"The Bell Jar\", \"genre\": \"drama\", \"mood\": \"psychological\", \"length\": \"medium\"},\n",
    "    {\"title\": \"The Color Purple\", \"genre\": \"drama\", \"mood\": \"emotional\", \"length\": \"long\"},\n",
    "    {\"title\": \"Beloved\", \"genre\": \"drama\", \"mood\": \"haunting\", \"length\": \"long\"},\n",
    "    {\"title\": \"The Kite Runner\", \"genre\": \"drama\", \"mood\": \"emotional\", \"length\": \"long\"},\n",
    "    # Fantasy\n",
    "    {\"title\": \"Harry Potter and the Sorcerer's Stone\", \"genre\": \"fantasy\", \"mood\": \"excited\", \"length\": \"long\"},\n",
    "    {\"title\": \"The Lord of the Rings\", \"genre\": \"fantasy\", \"mood\": \"serious\", \"length\": \"long\"},\n",
    "    {\"title\": \"Alice in Wonderland\", \"genre\": \"fantasy\", \"mood\": \"happy\", \"length\": \"short\"},\n",
    "    {\"title\": \"Percy Jackson and the Lightning Thief\", \"genre\": \"fantasy\", \"mood\": \"excited\", \"length\": \"medium\"},\n",
    "    {\"title\": \"The Chronicles of Narnia\", \"genre\": \"fantasy\", \"mood\": \"magical\", \"length\": \"medium\"},\n",
    "    {\"title\": \"The Name of the Wind\", \"genre\": \"fantasy\", \"mood\": \"epic\", \"length\": \"long\"},\n",
    "    {\"title\": \"Mistborn: The Final Empire\", \"genre\": \"fantasy\", \"mood\": \"dark\", \"length\": \"long\"},\n",
    "    {\"title\": \"A Game of Thrones\", \"genre\": \"fantasy\", \"mood\": \"political\", \"length\": \"long\"},\n",
    "    {\"title\": \"The Lies of Locke Lamora\", \"genre\": \"fantasy\", \"mood\": \"humorous\", \"length\": \"long\"},\n",
    "    {\"title\": \"The Night Circus\", \"genre\": \"fantasy\", \"mood\": \"mysterious\", \"length\": \"medium\"},\n",
    "    # Thriller\n",
    "    {\"title\": \"The Da Vinci Code\", \"genre\": \"thriller\", \"mood\": \"excited\", \"length\": \"long\"},\n",
    "    {\"title\": \"Gone Girl\", \"genre\": \"thriller\", \"mood\": \"serious\", \"length\": \"medium\"},\n",
    "    {\"title\": \"Sherlock Holmes: The Hound of the Baskervilles\", \"genre\": \"thriller\", \"mood\": \"thoughtful\", \"length\": \"short\"},\n",
    "    {\"title\": \"The Girl with the Dragon Tattoo\", \"genre\": \"thriller\", \"mood\": \"serious\", \"length\": \"long\"},\n",
    "    {\"title\": \"Angels & Demons\", \"genre\": \"thriller\", \"mood\": \"suspenseful\", \"length\": \"long\"},\n",
    "    {\"title\": \"Inferno\", \"genre\": \"thriller\", \"mood\": \"exciting\", \"length\": \"long\"},\n",
    "    {\"title\": \"The Silent Patient\", \"genre\": \"thriller\", \"mood\": \"mysterious\", \"length\": \"medium\"},\n",
    "    {\"title\": \"Before I Go to Sleep\", \"genre\": \"thriller\", \"mood\": \"psychological\", \"length\": \"medium\"},\n",
    "    {\"title\": \"The Reversal\", \"genre\": \"thriller\", \"mood\": \"legal\", \"length\": \"medium\"},\n",
    "    {\"title\": \"I Am Watching You\", \"genre\": \"thriller\", \"mood\": \"suspenseful\", \"length\": \"short\"},\n",
    "]\n",
    "\n",
    "# ------------------------------\n",
    "# 2️⃣ Recommendation function\n",
    "# ------------------------------\n",
    "def recommend_book(genre=None, mood=None, length=None):\n",
    "    import difflib\n",
    "\n",
    "    def norm(x):\n",
    "        return None if (x is None or str(x).strip() == \"\" or str(x).lower() == \"any\") else str(x).lower().strip()\n",
    "\n",
    "    g, m, l = norm(genre), norm(mood), norm(length)\n",
    "\n",
    "    # Valid options\n",
    "    valid_genres = list(set(b[\"genre\"].lower() for b in books))\n",
    "    valid_moods = list(set(b[\"mood\"].lower() for b in books))\n",
    "    valid_lengths = list(set(b[\"length\"].lower() for b in books))\n",
    "\n",
    "    # Fuzzy matching\n",
    "    if g and g not in valid_genres:\n",
    "        match = difflib.get_close_matches(g, valid_genres, n=1)\n",
    "        g = match[0] if match else g\n",
    "    if m and m not in valid_moods:\n",
    "        match = difflib.get_close_matches(m, valid_moods, n=1)\n",
    "        m = match[0] if match else m\n",
    "    if l and l not in valid_lengths:\n",
    "        match = difflib.get_close_matches(l, valid_lengths, n=1)\n",
    "        l = match[0] if match else l\n",
    "\n",
    "    # Filter\n",
    "    results = []\n",
    "    for book in books:\n",
    "        if g and book[\"genre\"].lower() != g:\n",
    "            continue\n",
    "        if m and book[\"mood\"].lower() != m:\n",
    "            continue\n",
    "        if l and book[\"length\"].lower() != l:\n",
    "            continue\n",
    "        results.append(book)\n",
    "\n",
    "    return results\n",
    "\n",
    "# ------------------------------\n",
    "# 3️⃣ Console chatbot\n",
    "# ------------------------------\n",
    "def chatbot_console():\n",
    "    print(\"📚 Book Recommendation Chatbot (Console Mode)\")\n",
    "    print(\"Type 'exit' to quit.\\n\")\n",
    "    while True:\n",
    "        genre = input(\"Genre (romance/adventure/drama/fantasy/thriller) or 'any': \").strip()\n",
    "        if genre.lower() == \"exit\":\n",
    "            print(\"👋 Goodbye! Happy reading!\")\n",
    "            break\n",
    "        mood = input(\"Mood (happy/emotional/excited/serious/thoughtful) or 'any': \").strip()\n",
    "        length = input(\"Length (short/medium/long) or 'any': \").strip()\n",
    "\n",
    "        recs = recommend_book(genre, mood, length)\n",
    "        if not recs:\n",
    "            print(\"⚠️ Sorry, no books found.\\n\")\n",
    "        else:\n",
    "            print(\"\\n✨ Recommended Books:\")\n",
    "            for b in recs:\n",
    "                print(f\" - {b['title']}  ({b['genre']}, {b['mood']}, {b['length']})\")\n",
    "            print()\n",
    "\n",
    "# ------------------------------\n",
    "# 4️⃣ Jupyter widget chatbot\n",
    "# ------------------------------\n",
    "def chatbot_widgets():\n",
    "    try:\n",
    "        import ipywidgets as widgets\n",
    "        from IPython.display import display, clear_output\n",
    "    except Exception:\n",
    "        return False  # Widgets not installed\n",
    "\n",
    "    genre_dropdown = widgets.Dropdown(\n",
    "        options=['any','romance','adventure','drama','fantasy','thriller'],\n",
    "        value='any', description='Genre:'\n",
    "    )\n",
    "    mood_dropdown = widgets.Dropdown(\n",
    "        options=['any','happy','emotional','excited','serious','thoughtful'],\n",
    "        value='any', description='Mood:'\n",
    "    )\n",
    "    length_dropdown = widgets.Dropdown(\n",
    "        options=['any','short','medium','long'],\n",
    "        value='any', description='Length:'\n",
    "    )\n",
    "    button = widgets.Button(description='Get Recommendation')\n",
    "    output = widgets.Output()\n",
    "\n",
    "    def on_click(b):\n",
    "        with output:\n",
    "            clear_output()\n",
    "            recs = recommend_book(genre_dropdown.value, mood_dropdown.value, length_dropdown.value)\n",
    "            if not recs:\n",
    "                print(\"⚠️ Sorry, no books found.\")\n",
    "            else:\n",
    "                print(\"✨ Recommended Books:\")\n",
    "                for book in recs:\n",
    "                    print(f\" - {book['title']} ({book['genre']}, {book['mood']}, {book['length']})\")\n",
    "\n",
    "    button.on_click(on_click)\n",
    "    display(genre_dropdown, mood_dropdown, length_dropdown, button, output)\n",
    "    return True\n",
    "\n",
    "# ------------------------------\n",
    "# 5️⃣ Run chatbot\n",
    "# ------------------------------\n",
    "if not chatbot_widgets():  # Use widgets if available\n",
    "    chatbot_console()\n"
   ]
  }
 ],
 "metadata": {
  "kernelspec": {
   "display_name": "Python 3",
   "language": "python",
   "name": "python3"
  },
  "language_info": {
   "codemirror_mode": {
    "name": "ipython",
    "version": 3
   },
   "file_extension": ".py",
   "mimetype": "text/x-python",
   "name": "python",
   "nbconvert_exporter": "python",
   "pygments_lexer": "ipython3",
   "version": "3.13.5"
  }
 },
 "nbformat": 4,
 "nbformat_minor": 5
}
